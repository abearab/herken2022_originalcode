{
 "cells": [
  {
   "cell_type": "code",
   "execution_count": 6,
   "metadata": {},
   "outputs": [],
   "source": [
    "##Import modules\n",
    "\n",
    "import numpy as np\n",
    "import scipy as sp\n",
    "import matplotlib\n",
    "import matplotlib.pyplot as plt\n",
    "import pandas as pd\n",
    "from scipy import optimize\n",
    "from scipy import stats"
   ]
  },
  {
   "cell_type": "code",
   "execution_count": 7,
   "metadata": {},
   "outputs": [],
   "source": [
    "## Define Functions\n",
    "\n",
    "####Analysis pipeline####\n",
    "\n",
    "## ALL THAT FOLLOWS IN THIS CELL WAS CREATED BY MAX HORLBECK as seen in:\n",
    "##(https://github.com/mhorlbeck/GImap_tools/blob/master/GImap_analysis.py)\n",
    "\n",
    "# version that only filters based on cycledCol as many sgRNAs have median rep of 0 at the end\n",
    "def calcLog2e_cycledonly(t0Col, cycledCol, doublesTable, filterThreshold = 1.0, pseudocount = 1.0, doublingDifferences = 1.0):\n",
    "    meanCounts = pd.concat((cycledCol.groupby(doublesTable['name_a']).agg(np.median),cycledCol.groupby(doublesTable['name_b']).agg(np.median)),axis=1, keys=['a','b'])\n",
    "    \n",
    "    sgsToFilter = set(meanCounts.loc[meanCounts.loc[:,'b'] < filterThreshold].index).union(set(meanCounts.loc[meanCounts.loc[:,'a'] < filterThreshold].index))\n",
    "    doublesTable_filt = doublesTable.loc[doublesTable.apply(lambda row: row['name_a'] not in sgsToFilter and row['name_b'] not in sgsToFilter, axis=1)]\n",
    "    print(str(len(doublesTable_filt)) + ' pairs of ' + str(len(doublesTable)) + ' passing filter')\n",
    "    \n",
    "    countsRatio = (t0Col.loc[doublesTable_filt.index] + pseudocount).sum()*1.0/(cycledCol.loc[doublesTable_filt.index] + pseudocount).sum()\n",
    "    log2es = np.log2((cycledCol.loc[doublesTable_filt.index] + pseudocount)/(t0Col.loc[doublesTable_filt.index] + pseudocount)*countsRatio)\n",
    "\n",
    "    doubleNegatives = doublesTable.apply(lambda row: row['gene_a'] == 'negative' and row['gene_b'] == 'negative', axis=1)\n",
    "\n",
    "    log2es -= log2es.loc[doubleNegatives].median()\n",
    "\n",
    "    log2es /= doublingDifferences\n",
    "    \n",
    "    return log2es\n",
    "\n",
    "#for a specified variable position and sgRNA, get single phenotypes, double phenotypes, and optionally single phenotype std dev.\n",
    "def getXYB(sgRNA, singlePhenotypes, phenotypeMatrix, variablePosition, fixedPosition, returnXerr=False):\n",
    "    if not returnXerr:\n",
    "        return singlePhenotypes[variablePosition+'.mean'], \\\n",
    "            phenotypeMatrix.loc[sgRNA,:] if fixedPosition == 'a' else phenotypeMatrix.loc[:,sgRNA], \\\n",
    "            singlePhenotypes.loc[sgRNA, fixedPosition +'.mean']\n",
    "    else:\n",
    "        return singlePhenotypes[variablePosition+'.mean'], \\\n",
    "            phenotypeMatrix.loc[sgRNA,:] if fixedPosition == 'a' else phenotypeMatrix.loc[:,sgRNA], \\\n",
    "            singlePhenotypes.loc[sgRNA, fixedPosition +'.mean'], singlePhenotypes[variablePosition+'.std']\n",
    "        \n",
    "#convert phenotypes into square matrix\n",
    "def generatePhenotypeMatrix(phenotypes):\n",
    "    numSingles = int(np.sqrt(len(phenotypes)))\n",
    "    phenotypeMatrix = np.zeros((numSingles,numSingles))\n",
    "    singlesTable = []\n",
    "    for i, (sgPair, counts) in enumerate(phenotypes.sort_index().iteritems()):\n",
    "        phenotypeMatrix[int(i/numSingles), i%numSingles] = counts\n",
    "        if i%numSingles == 0:\n",
    "            singlesTable.append(sgPair.split(':')[0])\n",
    "\n",
    "    phenotypeMatrix = pd.DataFrame(phenotypeMatrix, index=singlesTable, columns=singlesTable)\n",
    "    singlesTable = pd.DataFrame([s.split('_')[0] for s in singlesTable], index=singlesTable, columns=['gene'])\n",
    "    \n",
    "    singlePhenotypes = pd.concat((phenotypeMatrix.loc[singlesTable['gene'] == 'non-targeting',:].apply(np.nanmean, axis=0), \n",
    "                                  phenotypeMatrix.loc[singlesTable['gene'] == 'non-targeting',:].apply(np.nanstd, axis=0), \n",
    "                                  phenotypeMatrix.loc[:, singlesTable['gene'] == 'non-targeting'].apply(np.nanmean, axis=1),\n",
    "                                 phenotypeMatrix.loc[:, singlesTable['gene'] == 'non-targeting'].apply(np.nanstd, axis=1)), \n",
    "                                 axis=1, keys=['b.mean','b.std','a.mean','a.std'])\n",
    "    \n",
    "    return phenotypeMatrix, singlesTable, singlePhenotypes\n",
    "\n",
    "def abbaAveragePhenotypes(phenotypeMatrix, singlesTable):\n",
    "\tphenotypeMatrix_abba = (phenotypeMatrix + phenotypeMatrix.T) / 2\n",
    "\n",
    "\tsinglePhenotypes_abba = pd.concat((phenotypeMatrix_abba.loc[singlesTable['gene'] == 'non-targeting',:].apply(np.nanmean, axis=0), \n",
    "                                  phenotypeMatrix_abba.loc[singlesTable['gene'] == 'non-targeting',:].apply(np.nanstd, axis=0), \n",
    "                                  phenotypeMatrix_abba.loc[:, singlesTable['gene'] == 'non-targeting'].apply(np.nanmean, axis=1),\n",
    "                                  phenotypeMatrix_abba.loc[:, singlesTable['gene'] == 'non-targeting'].apply(np.nanstd, axis=1)), \n",
    "                                 axis=1, keys=['b.mean','b.std','a.mean','a.std'])\n",
    "\n",
    "\treturn phenotypeMatrix_abba, singlePhenotypes_abba\n",
    "\n",
    "\n",
    "#calculate epistasis interactions, optionally z-standardizing based on negative controls\n",
    "def calculateInteractions(phenotypeMatrix, singlePhenotypes, singlesTable, fitFunction, zstandardize=True):\n",
    "    emap1 = pd.DataFrame(np.zeros(phenotypeMatrix.shape), index=phenotypeMatrix.index, columns=phenotypeMatrix.columns)\n",
    "    variablePosition, fixedPosition = 'a','b'\n",
    "    for i, sgRNA in enumerate(phenotypeMatrix.index):\n",
    "        xdata, ydata, bdata = getXYB(sgRNA, singlePhenotypes, phenotypeMatrix, variablePosition, fixedPosition)\n",
    "        \n",
    "        fit = fitFunction(xdata, ydata, bdata)\n",
    "        epistasis = ydata - fit(xdata)\n",
    "\n",
    "        if zstandardize:\n",
    "\t        emap1.loc[sgRNA,:] = epistasis / epistasis.loc[singlesTable['gene'] == 'non-targeting'].std()\n",
    "       \telse:\n",
    "\t        emap1.loc[sgRNA,:] = epistasis \n",
    "\n",
    "    emap2 = pd.DataFrame(np.zeros(phenotypeMatrix.shape), index=phenotypeMatrix.index, columns=phenotypeMatrix.columns)\n",
    "    variablePosition, fixedPosition = 'b','a'\n",
    "    for i, sgRNA in enumerate(phenotypeMatrix.index):\n",
    "        xdata, ydata, bdata = getXYB(sgRNA, singlePhenotypes, phenotypeMatrix, variablePosition, fixedPosition)\n",
    "        \n",
    "        fit = fitFunction(xdata, ydata, bdata)\n",
    "        epistasis = ydata - fit(xdata)\n",
    "\n",
    "        if zstandardize:\n",
    "\t        emap2.loc[sgRNA,:] = epistasis / epistasis.loc[singlesTable['gene'] == 'non-targeting'].std()\n",
    "       \telse:\n",
    "\t        emap2.loc[sgRNA,:] = epistasis \n",
    "\n",
    "    emap12 = (emap1+emap2)/2\n",
    "    \n",
    "    emap_ave = (emap12 + emap12.T) / 2\n",
    "    \n",
    "    return emap1, emap2, emap_ave\n",
    "\n",
    "#calculate all pairwise intra-sgRNA or intra-gene correlations\n",
    "def calculateCorrelationMatrix(matrix, diagNull=True):\n",
    "    corrMatrix = pd.DataFrame(np.corrcoef(matrix), index=matrix.index, columns=matrix.columns)\n",
    "    \n",
    "    if diagNull:\n",
    "        for i in range(len(corrMatrix)):\n",
    "            corrMatrix.iloc[i,i] = np.nan\n",
    "            \n",
    "    return corrMatrix\n",
    "\n",
    "#find correlations between sgRNAs targeting the same gene and negative controls\n",
    "def calculateIntrageneCorrelation(sgCorrMatrix, singlePhenotypes, singlesTable):\n",
    "    sameGeneCorrTups = []\n",
    "    negCorrTups = []\n",
    "    for gene, sgs in singlesTable.groupby('gene'):\n",
    "        for i, (sg1, row) in enumerate(sgCorrMatrix.loc[sgs.index, sgs.index].iterrows()):\n",
    "            for j, (sg2, val) in enumerate(row.iteritems()):\n",
    "                if i>j:\n",
    "                    if gene != 'negative':\n",
    "                        sameGeneCorrTups.append((sg1, sg2, \n",
    "                                                 singlePhenotypes.loc[sg1,['a.mean','b.mean']].mean(), \n",
    "                                                 singlePhenotypes.loc[sg2,['a.mean','b.mean']].mean(),\n",
    "                                                val))\n",
    "                    else:\n",
    "                        negCorrTups.append((sg1, sg2, \n",
    "                                                 singlePhenotypes.loc[sg1,['a.mean','b.mean']].mean(), \n",
    "                                                 singlePhenotypes.loc[sg2,['a.mean','b.mean']].mean(),\n",
    "                                                val))\n",
    "                        \n",
    "    return sameGeneCorrTups, negCorrTups\n",
    "\n",
    "\n",
    "#generate a gene map by averaging sgRNA epistasis\n",
    "def generateGeneMap(emap_sgRNA, singlesTable):\n",
    "    emap_gene = pd.DataFrame(np.zeros((len(set(singlesTable['gene'])),len(set(singlesTable['gene'])))), index = sorted(set(singlesTable['gene'])), columns = sorted(set(singlesTable['gene'])))\n",
    "    for gene_a, rowgroup in emap_sgRNA.groupby(singlesTable['gene']):\n",
    "        for gene_b, colgroup in rowgroup.groupby(singlesTable['gene'], axis=1):\n",
    "            emap_gene.loc[gene_a, gene_b] = colgroup.sum().sum() / (colgroup.shape[0] * colgroup.shape[1])\n",
    "            \n",
    "    return emap_gene\n",
    "\n",
    "### fit functions for calculating interactions and plotting\n",
    "def linearFitForceIntercept(xdata, ydata, bdata):\n",
    "    m1 = optimize.fmin(lambda m, x, y: ((m*x + bdata - y)**2).sum(), x0=0.1, args=(xdata, ydata), disp=0)[0]\n",
    "    \n",
    "    return lambda x1: m1*np.array(x1) + bdata\n",
    "\n",
    "def quadFitForceIntercept(xdata, ydata, bdata):\n",
    "    m1 = optimize.fmin(lambda m, x, y: ((m[0]*(x**2) + m[1]*x + bdata - y)**2).sum(), x0=[0.1,0.1], args=(xdata, ydata), disp=0)\n",
    "    \n",
    "    return lambda x1: m1[0]*(np.array(x1)**2) + m1[1]*np.array(x1) + bdata\n"
   ]
  },
  {
   "cell_type": "code",
   "execution_count": 12,
   "metadata": {},
   "outputs": [],
   "source": [
    "## Import data as DataFrames\n",
    "## relevant files can be found here: https://ucsf.box.com/s/nuwov4kgb55mqfrr7j5a216ot78f4uxn\n",
    "\n",
    "## \"countsFile\" is to be defined using the file titled \"GIscreen_countsMasterTable.txt\" \n",
    "## \"doublesLibrary\" is to be defined using the file titled \"GIscreen_dualsgrna_aligned_library.txt\"\n",
    "\n",
    "countsFile = pd.read_csv('',sep='\\t',index_col=0)\n",
    "doublesLibrary = pd.read_csv('',sep='\\t',index_col=0)\n",
    "\n"
   ]
  },
  {
   "cell_type": "code",
   "execution_count": 15,
   "metadata": {},
   "outputs": [],
   "source": [
    "## Define a dictionary \"growthScores\" that has as keys the different replicates and conditions of the experiment,\n",
    "## where each key's value corresponds to the number of population doublings that occurred in the experiment, also\n",
    "## include the difference between replicate matched experiments\n",
    "\n",
    "growthScores = {\n",
    "    'rep1_growth' : 9.632926829,\n",
    "    'rep1_diff' : 4.87195122,\n",
    "    'rep1_treated' : 4.76097561,\n",
    "    'rep2_growth' : 9.559756098,\n",
    "    'rep2_diff' : 4.752439024,\n",
    "    'rep2_treated' : 4.807317073}"
   ]
  },
  {
   "cell_type": "code",
   "execution_count": 16,
   "metadata": {},
   "outputs": [
    {
     "name": "stdout",
     "output_type": "stream",
     "text": [
      "370881 pairs of 407044 passing filter\n",
      "357604 pairs of 407044 passing filter\n"
     ]
    }
   ],
   "source": [
    "##Calculate normalized log fold enrichment scores.\n",
    "\n",
    "#For Gamma, first arg is \"RepX_T0\", second arg is \"RepX_UT, doublingDifferences is \"repX_growth\"\n",
    "#For Tau, first arg is \"RepX_T0\", second arg is \"RepX_DRUG, doublingDifferences is \"repX_treated\"\n",
    "#For Rho, first arg is \"RepX_UT\", second arg is \"RepX_DRUG, doublingDifferences is \"repX_diff\"\n",
    "\n",
    "\n",
    "## Calculate sgRNA level tau scores\n",
    "\n",
    "taulog2es_rep1 = calcLog2e_cycledonly(countsFile['Rep1_T0'],\n",
    "                                   countsFile['Rep1_DRUG'],\n",
    "                                   doublesLibrary,\n",
    "                                   filterThreshold=35,\n",
    "                                   pseudocount=10,\n",
    "                                   doublingDifferences=growthScores['rep1_treated'])\n",
    "\n",
    "taulog2es_rep2 = calcLog2e_cycledonly(countsFile['Rep2_T0'],\n",
    "                                   countsFile['Rep2_DRUG'],\n",
    "                                   doublesLibrary,\n",
    "                                   filterThreshold=35,\n",
    "                                   pseudocount=10,\n",
    "                                   doublingDifferences=growthScores['rep2_treated'])\n",
    "\n"
   ]
  },
  {
   "cell_type": "code",
   "execution_count": 17,
   "metadata": {},
   "outputs": [
    {
     "name": "stdout",
     "output_type": "stream",
     "text": [
      "400689 pairs of 407044 passing filter\n",
      "398161 pairs of 407044 passing filter\n"
     ]
    }
   ],
   "source": [
    "## Calculate sgRNA level gamma scores\n",
    "\n",
    "gammalog2es_rep1 = calcLog2e_cycledonly(countsFile['Rep1_T0'],\n",
    "                                   countsFile['Rep1_UT'],\n",
    "                                   doublesLibrary,\n",
    "                                   filterThreshold=35,\n",
    "                                   pseudocount=10,\n",
    "                                   doublingDifferences=growthScores['rep1_growth'])\n",
    "\n",
    "gammalog2es_rep2 = calcLog2e_cycledonly(countsFile['Rep2_T0'],\n",
    "                                   countsFile['Rep2_UT'],\n",
    "                                   doublesLibrary,\n",
    "                                   filterThreshold=35,\n",
    "                                   pseudocount=10,\n",
    "                                   doublingDifferences=growthScores['rep2_growth'])"
   ]
  },
  {
   "cell_type": "code",
   "execution_count": 18,
   "metadata": {},
   "outputs": [
    {
     "name": "stdout",
     "output_type": "stream",
     "text": [
      "357604\n"
     ]
    }
   ],
   "source": [
    "## Repave taus replicates to have the same list of threshold passed sgRNAs, then average sgRNA phenotype across reps\n",
    "\n",
    "sgIntersect =set(taulog2es_rep1.index).intersection(taulog2es_rep2.index)\n",
    "tauLog2es_repave = ((taulog2es_rep1 + taulog2es_rep2) / 2).loc[sgIntersect]\n",
    "print(len(tauLog2es_repave))"
   ]
  },
  {
   "cell_type": "code",
   "execution_count": 19,
   "metadata": {},
   "outputs": [
    {
     "name": "stdout",
     "output_type": "stream",
     "text": [
      "398161\n"
     ]
    }
   ],
   "source": [
    "## Repave gammas replicates to have the same list of threshold passed sgRNAs, then average sgRNA phenotype across reps\n",
    "\n",
    "sgIntersect =set(gammalog2es_rep1.index).intersection(gammalog2es_rep2.index)\n",
    "gammaLog2es_repave = ((gammalog2es_rep1 + gammalog2es_rep2) / 2).loc[sgIntersect]\n",
    "print(len(gammaLog2es_repave))"
   ]
  },
  {
   "cell_type": "code",
   "execution_count": 20,
   "metadata": {},
   "outputs": [
    {
     "name": "stdout",
     "output_type": "stream",
     "text": [
      "354025\n"
     ]
    }
   ],
   "source": [
    "## Repave both the tau and gamma replicate averaged as well as individual replicates to all have the same indices\n",
    "\n",
    "bothIntersect = set(gammaLog2es_repave.index).intersection(tauLog2es_repave.index)\n",
    "gammaLog2es_repave = gammaLog2es_repave.loc[bothIntersect]\n",
    "tauLog2es_repave = tauLog2es_repave.loc[bothIntersect]\n",
    "gammalog2es_rep1 = gammalog2es_rep1.loc[bothIntersect]\n",
    "gammalog2es_rep2 = gammalog2es_rep2.loc[bothIntersect]\n",
    "taulog2es_rep1 = taulog2es_rep1.loc[bothIntersect]\n",
    "taulog2es_rep2 = taulog2es_rep2.loc[bothIntersect]\n",
    "\n",
    "print(len(tauLog2es_repave))"
   ]
  },
  {
   "cell_type": "code",
   "execution_count": 21,
   "metadata": {},
   "outputs": [],
   "source": [
    "## Create replicate averaged eGI map from the Tau data \n",
    "\n",
    "## First put dual sgRNA taus into matrix format, make DataFrames of single sgRNA taus\n",
    "tauPhenotypeMatrix, tauSinglesTable, tauSinglePhenotypes = generatePhenotypeMatrix(tauLog2es_repave)\n",
    "\n",
    "## ABBA normalize (both possible orientations of a paired sgRNA)\n",
    "tau_phenotypeMatrix_abba, tau_singlePhenotypes_abba = abbaAveragePhenotypes(tauPhenotypeMatrix, tauSinglesTable)\n",
    "\n",
    "## Calculate sgRNA level genetic interactions\n",
    "tau_emap1, tau_emap2, tau_emap_quad_std = calculateInteractions(tau_phenotypeMatrix_abba, tau_singlePhenotypes_abba, tauSinglesTable, quadFitForceIntercept, zstandardize=True)\n",
    "\n",
    "## Calculate gene level genetic interactions, this is used to make Table S4\n",
    "tau_emap_quad_std_gene = generateGeneMap(tau_emap_quad_std, tauSinglesTable)\n"
   ]
  },
  {
   "cell_type": "code",
   "execution_count": null,
   "metadata": {},
   "outputs": [],
   "source": [
    "## Create replicate specific GI maps from the Tau data\n",
    "\n",
    "## First put dual sgRNA tau scores into matrix format\n",
    "tau_phenotypeMatrix_rep1, tau_singlesTable_rep1, tau_singlePhenotypes_rep1 = generatePhenotypeMatrix(taulog2es_rep1)\n",
    "tau_phenotypeMatrix_rep2, tau_singlesTable_rep2, tau_singlePhenotypes_rep2 = generatePhenotypeMatrix(taulog2es_rep2)\n",
    "\n",
    "## ABBA normalize\n",
    "tau_phenotypeMatrix_rep1_abba, tau_singlePhenotypes_rep1_abba = abbaAveragePhenotypes(tau_phenotypeMatrix_rep1, tau_singlesTable_rep1)\n",
    "tau_phenotypeMatrix_rep2_abba, tau_singlePhenotypes_rep2_abba = abbaAveragePhenotypes(tau_phenotypeMatrix_rep2, tau_singlesTable_rep1)\n",
    "\n",
    "## Calculate sgRNA level genetic interactions \n",
    "emap1, emap2, tau_emap_quad_std_rep1 = calculateInteractions(tau_phenotypeMatrix_rep1_abba, tau_singlePhenotypes_rep1_abba, tau_singlesTable_rep1, quadFitForceIntercept, zstandardize=True)\n",
    "emap1, emap2, tau_emap_quad_std_rep2 = calculateInteractions(tau_phenotypeMatrix_rep2_abba, tau_singlePhenotypes_rep2_abba, tau_singlesTable_rep2, quadFitForceIntercept, zstandardize=True)\n",
    "\n",
    "## Calculate gene level genetic interactions\n",
    "tau_emap_quad_std_rep1_gene = generateGeneMap(tau_emap_quad_std_rep1, tau_singlesTable_rep1)\n",
    "tau_emap_quad_std_rep2_gene = generateGeneMap(tau_emap_quad_std_rep2, tau_singlesTable_rep2)"
   ]
  },
  {
   "cell_type": "code",
   "execution_count": null,
   "metadata": {},
   "outputs": [],
   "source": [
    "## Create replicate averaged GI map from the Gamma data \n",
    "\n",
    "## First put dual sgRNA gammas into matrix format, make DataFrames of single sgRNA gammas\n",
    "gammaPhenotypeMatrix, gammaSinglesTable, gammaSinglePhenotypes = generatePhenotypeMatrix(gammaLog2es_repave)\n",
    "\n",
    "## ABBA normalize\n",
    "gamma_phenotypeMatrix_abba, gamma_singlePhenotypes_abba = abbaAveragePhenotypes(gammaPhenotypeMatrix, gammaSinglesTable)\n",
    "\n",
    "## Calculate sgRNA level genetic interactions\n",
    "emap1, emap2, gamma_emap_quad_std = calculateInteractions(gamma_phenotypeMatrix_abba, gamma_singlePhenotypes_abba, gammaSinglesTable, quadFitForceIntercept, zstandardize=True)\n",
    "\n",
    "## Calculate gene level genetic interactions, this is used to make Table S3\n",
    "gamma_emap_quad_std_gene = generateGeneMap(gamma_emap_quad_std, gammaSinglesTable)\n"
   ]
  },
  {
   "cell_type": "code",
   "execution_count": null,
   "metadata": {},
   "outputs": [],
   "source": [
    "## Create replicate specific GI maps from the Gamma data\n",
    "\n",
    "## First put paired normalized log enrichment scores into a matrix, make DataFrames of singles scores and sgRNAs\n",
    "gamma_phenotypeMatrix_rep1, gamma_singlesTable_rep1, gamma_singlePhenotypes_rep1 = generatePhenotypeMatrix(gammalog2es_rep1)\n",
    "gamma_phenotypeMatrix_rep2, gamma_singlesTable_rep2, gamma_singlePhenotypes_rep2 = generatePhenotypeMatrix(gammalog2es_rep2)\n",
    "\n",
    "## ABBA normalize this data\n",
    "gamma_phenotypeMatrix_rep1_abba, gamma_singlePhenotypes_rep1_abba = abbaAveragePhenotypes(gamma_phenotypeMatrix_rep1, gamma_singlesTable_rep1)\n",
    "gamma_phenotypeMatrix_rep2_abba, gamma_singlePhenotypes_rep2_abba = abbaAveragePhenotypes(gamma_phenotypeMatrix_rep2, gamma_singlesTable_rep1)\n",
    "\n",
    "## Calculate sgRNA level genetic interactions \n",
    "emap1, emap2, gamma_emap_quad_std_rep1 = calculateInteractions(gamma_phenotypeMatrix_rep1_abba, gamma_singlePhenotypes_rep1_abba, gamma_singlesTable_rep1, quadFitForceIntercept, zstandardize=True)\n",
    "emap1, emap2, gamma_emap_quad_std_rep2 = calculateInteractions(gamma_phenotypeMatrix_rep2_abba, gamma_singlePhenotypes_rep2_abba, gamma_singlesTable_rep2, quadFitForceIntercept, zstandardize=True)\n",
    "\n",
    "## Calculate gene level genetic interactions\n",
    "gamma_emap_quad_std_rep1_gene = generateGeneMap(gamma_emap_quad_std_rep1, gamma_singlesTable_rep1)\n",
    "gamma_emap_quad_std_rep2_gene = generateGeneMap(gamma_emap_quad_std_rep2, gamma_singlesTable_rep2)"
   ]
  }
 ],
 "metadata": {
  "kernelspec": {
   "display_name": "Python 3 (ipykernel)",
   "language": "python",
   "name": "python3"
  },
  "language_info": {
   "codemirror_mode": {
    "name": "ipython",
    "version": 3
   },
   "file_extension": ".py",
   "mimetype": "text/x-python",
   "name": "python",
   "nbconvert_exporter": "python",
   "pygments_lexer": "ipython3",
   "version": "3.9.7"
  }
 },
 "nbformat": 4,
 "nbformat_minor": 2
}
