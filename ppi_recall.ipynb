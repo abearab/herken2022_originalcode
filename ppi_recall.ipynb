{
 "cells": [
  {
   "cell_type": "code",
   "execution_count": 2,
   "id": "77b145d1",
   "metadata": {},
   "outputs": [],
   "source": [
    "## This notebook will be used to determine the extent that out threshold passed GI scores can recall PPI information\n",
    "## from the STRING dataset"
   ]
  },
  {
   "cell_type": "code",
   "execution_count": 4,
   "id": "e8f37d20",
   "metadata": {},
   "outputs": [],
   "source": [
    "## Import modules\n",
    "\n",
    "import pandas as pd\n",
    "import numpy as np\n",
    "import matplotlib \n",
    "import matplotlib.pyplot as plt\n",
    "from scipy import stats\n",
    "import seaborn as sns\n",
    "import networkx as nx\n",
    "import requests"
   ]
  },
  {
   "cell_type": "code",
   "execution_count": 73,
   "id": "72c2dcf3",
   "metadata": {},
   "outputs": [],
   "source": [
    "## Import data\n",
    "\n",
    "## Import gene and sgrna interaction data\n",
    "singles_table = pd.read_excel('/Users/benh/Desktop/GI_data/singles_tables/singles_table.xlsx',index_col = 0)\n",
    "\n",
    "dmso2_map = pd.read_excel('/Users/benh/Desktop/GI_data/gene_maps/dmso2_map.xlsx',index_col = 0)\n",
    "dmso2_sgmap = pd.read_excel('/Users/benh/Desktop/GI_data/guide_maps/dmso2_sgmap.xlsx', index_col = 0)\n",
    "\n",
    "etop_map = pd.read_excel('/Users/benh/Desktop/GI_data/gene_maps/etop_map.xlsx',index_col = 0)\n",
    "etop_sgmap = pd.read_excel('/Users/benh/Desktop/GI_data/guide_maps/etop_sgmap.xlsx', index_col = 0)\n",
    "\n",
    "keto_map = pd.read_excel('/Users/benh/Desktop/GI_data/gene_maps/keto_map.xlsx',index_col = 0)\n",
    "keto_sgmap = pd.read_excel('/Users/benh/Desktop/GI_data/guide_maps/keto_sgmap.xlsx', index_col = 0)\n",
    "keto_map = keto_map.fillna(0)\n",
    "\n",
    "## Original experiment maps\n",
    "dmso1_map = pd.read_excel('/Users/benh/Desktop/GI_data/gene_maps/dmso1_map.xlsx',index_col = 0)\n",
    "dmso1_sgmap = pd.read_excel('/Users/benh/Desktop/GI_data/guide_maps/dmso1_sgmap.xlsx',index_col = 0)\n",
    "\n",
    "atr_map = pd.read_excel('/Users/benh/Desktop/GI_data/gene_maps/atr_map.xlsx',index_col = 0)\n",
    "atr_sgmap = pd.read_excel('/Users/benh/Desktop/GI_data/guide_maps/atr_sgmap.xlsx',index_col = 0)"
   ]
  },
  {
   "cell_type": "code",
   "execution_count": 254,
   "id": "b7cf3020",
   "metadata": {},
   "outputs": [],
   "source": [
    "## Define Functions here\n",
    "\n",
    "##Import Max's handy upperTriangle function to avoid counting AB BA GIs twice\n",
    "def upperTriangle(matrix, k=1):\n",
    "    keep = np.triu(np.ones(matrix.shape), k=k).astype('bool').reshape(matrix.size)\n",
    "    return matrix.stack(dropna=False).loc[keep]\n",
    "\n",
    "def get_interactors(gimap,thresh):\n",
    "    pos_list = []\n",
    "    neg_list = []\n",
    "    out_list = []\n",
    "    for row in gimap.index:\n",
    "        for col in gimap.columns:\n",
    "            score = gimap.loc[row,col]\n",
    "            if abs(score) > thresh:\n",
    "                if col+':'+row not in out_list:\n",
    "                    out_list.append(row+':'+col)\n",
    "                    if score > 0:\n",
    "                        pos_list.append(row+':'+col)\n",
    "                    if score < 0:\n",
    "                        neg_list.append(row+':'+col)\n",
    "    return out_list, pos_list, neg_list\n",
    "\n",
    "def int_range(gimap,low_thresh,high_thresh):\n",
    "    out_list = []\n",
    "    test = upperTriangle(gimap)\n",
    "    for i, score in enumerate(test):\n",
    "        if score > low_thresh:\n",
    "            if score < high_thresh:\n",
    "                out_list.append(test.index[i][0]+':'+test.index[i][1])\n",
    "    return out_list\n",
    "\n",
    "def pairs2score(in_list,in_map):\n",
    "    out_list = []\n",
    "    for item in in_list:\n",
    "        g1,g2 = item.split(':')\n",
    "        out_list.append(in_map.loc[g1,g2])\n",
    "    return out_list\n",
    "\n",
    "def plot_gi_rho(gimap, thresh, t_singles,ut_singles): \n",
    "    num_gis = []\n",
    "    single_rho = []\n",
    "    for gene in gimap.index:\n",
    "        num_gis.append(len([val for val in gimap[gene] if abs(val) > thresh]))\n",
    "        tau = t_singles.loc[gene_singlestable['gene']== gene]['b.mean'].mean()\n",
    "        gamma = ut_singles.loc[gene_singlestable['gene']== gene]['b.mean'].mean()\n",
    "        single_rho.append(tau-gamma)\n",
    "    return plt.scatter(single_rho,num_gis,s=2,color = 'dimgray')\n",
    "\n",
    "def all_unique_pair(gene_list):\n",
    "    out_list = []\n",
    "    for i in range(len(gene_list)):\n",
    "        for j in range(i+1,len(gene_list)):\n",
    "            out_list.append(gene_list[i]+':'+gene_list[j])\n",
    "    return out_list\n",
    "    \n",
    "    \n",
    "def ppi_scores(int_list):\n",
    "    out_list=[]\n",
    "    if len(int_list) == 0:\n",
    "        return 0.0\n",
    "    for pair in int_list:\n",
    "        g1,g2 = pair.split(':')\n",
    "        pair_rev = g2+':'+g1\n",
    "        if pair in ppi_dict.keys():\n",
    "            out_list.append(ppi_dict[pair])\n",
    "        if pair_rev in ppi_dict.keys():\n",
    "            out_list.append(ppi_dict[pair_rev])\n",
    "        if pair not in ppi_dict.keys() and pair_rev not in ppi_dict.keys():\n",
    "            out_list.append(0)\n",
    "    return np.mean(out_list)\n",
    "\n",
    "def binary_ppi_ratio(int_list):\n",
    "    ppi_count = 0\n",
    "    if len(int_list) == 0:\n",
    "        return 0\n",
    "    for pair in int_list:\n",
    "        g1,g2 = pair.split(':')\n",
    "        pair_rev = g2+':'+g1\n",
    "        if pair in ppi_dict.keys():\n",
    "            if ppi_dict[pair] > 0.0:\n",
    "                ppi_count += 1\n",
    "        if pair_rev in ppi_dict.keys():\n",
    "            if ppi_dict[pair_rev] > 0.0:\n",
    "                ppi_count += 1\n",
    "    return ppi_count/len(int_list)\n",
    "            \n",
    "            \n",
    "def ppi_pair(gene_pair):\n",
    "    g1,g2 = gene_pair.split(':')\n",
    "    pair_rev = g2+':'+g1\n",
    "    if gene_pair in ppi_dict.keys():\n",
    "        return ppi_dict[gene_pair]\n",
    "    if pair_rev in ppi_dict.keys():\n",
    "        return ppi_dict[pair_rev]\n",
    "    if gene_pair not in ppi_dict.key() and pair_rev not in ppi_dict.keys():\n",
    "        return 0"
   ]
  },
  {
   "cell_type": "code",
   "execution_count": null,
   "id": "edae0931",
   "metadata": {},
   "outputs": [],
   "source": [
    "## A color map from Max Horlbeck in his 14.33 notebook for drawing GI heatmaps in the traditional blue/yellow scheme\n",
    "\n",
    "cdict = {'red':((0.0,0.125,0.125),\n",
    "                (0.5,0.0,0.0),\n",
    "                (1.0,0.957,0.957)),\n",
    "        'green':((0.0,0.713,0.713),\n",
    "                (0.5,0.0,0.0),\n",
    "                (1.0,0.918,0.918)),\n",
    "        'blue': ((0.0,0.886,0.886),\n",
    "                (0.5,0.0,0.0),\n",
    "                (1.0,0.094,0.094))}\n",
    "blue_yellow = matplotlib.colors.LinearSegmentedColormap('BlueYellow',cdict)\n",
    "blue_yellow.set_bad('w')\n",
    "\n",
    "plt.register_cmap(cmap=blue_yellow)"
   ]
  },
  {
   "cell_type": "code",
   "execution_count": 7,
   "id": "9ffb17d2",
   "metadata": {},
   "outputs": [],
   "source": [
    "## Fill nan values in the map with zeros\n",
    "\n",
    "dmso1_map = dmso1_map.fillna(0)\n",
    "atr_map = atr_map.fillna(0)\n",
    "dmso2_map = dmso2_map.fillna(0)\n",
    "etop_map = etop_map.fillna(0)\n",
    "keto_map = keto_map.fillna(0)\n",
    "\n",
    "dmso1_sgmap = dmso1_sgmap.fillna(0)\n",
    "atr_sgmap = atr_sgmap.fillna(0)\n",
    "dmso2_sgmap = dmso2_sgmap.fillna(0)\n",
    "etop_sgmap = etop_sgmap.fillna(0)\n",
    "keto_sgmap = keto_sgmap.fillna(0)"
   ]
  },
  {
   "cell_type": "code",
   "execution_count": 8,
   "id": "cd10852c",
   "metadata": {},
   "outputs": [],
   "source": [
    "## Make gene-sgneg map subsets\n",
    "\n",
    "dmso2_geneneg = dmso2_sgmap.loc[singles_table['gene'] == 'non-targeting',\n",
    "               :].groupby(singles_table['gene'],axis=1).mean()\n",
    "\n",
    "etop_geneneg = etop_sgmap.loc[singles_table['gene'] == 'non-targeting',\n",
    "               :].groupby(singles_table['gene'],axis=1).mean()\n",
    "\n",
    "keto_geneneg = keto_sgmap.loc[singles_table['gene'] == 'non-targeting',\n",
    "               :].groupby(singles_table['gene'],axis=1).mean()\n",
    "\n",
    "dmso1_geneneg = dmso1_sgmap.loc[singles_table['gene'] == 'non-targeting',\n",
    "               :].groupby(singles_table['gene'],axis=1).mean()\n",
    "\n",
    "atr_geneneg = atr_sgmap.loc[singles_table['gene'] == 'non-targeting',\n",
    "               :].groupby(singles_table['gene'],axis=1).mean()"
   ]
  },
  {
   "cell_type": "code",
   "execution_count": 10,
   "id": "1e7d5105",
   "metadata": {},
   "outputs": [],
   "source": [
    "## Repave all gene-ntc maps based off the index from one of the gene level maps\n",
    "\n",
    "dmso1_geneneg = dmso1_geneneg.loc[:,dmso1_map.index]\n",
    "atr_geneneg = atr_geneneg.loc[:,dmso1_map.index]\n",
    "dmso2_geneneg = dmso2_geneneg.loc[:,dmso1_map.index]\n",
    "etop_geneneg = etop_geneneg.loc[:,dmso1_map.index]\n",
    "keto_geneneg = keto_geneneg.loc[:,dmso1_map.index]"
   ]
  },
  {
   "cell_type": "code",
   "execution_count": 11,
   "id": "bdc6d59e",
   "metadata": {},
   "outputs": [],
   "source": [
    "## Define significance thresholds for each map at four times the standard deviation of the gene-ntc distribution\n",
    "\n",
    "dmso1_thresh = np.hstack(dmso1_geneneg.values).std()*4\n",
    "atr_thresh = np.hstack(atr_geneneg.values).std()*4\n",
    "dmso2_thresh = np.hstack(dmso2_geneneg.values).std()*4\n",
    "etop_thresh = np.hstack(etop_geneneg.values).std()*4\n",
    "keto_thresh = np.hstack(keto_geneneg.values).std()*4"
   ]
  },
  {
   "cell_type": "code",
   "execution_count": 12,
   "id": "e5483408",
   "metadata": {},
   "outputs": [],
   "source": [
    "## Use the \"get_interactors\" functions to define lists of threshold passed interactors in each map\n",
    "\n",
    "dmso1_all,dmso1_pos,dmso1_neg = get_interactors(dmso1_map,dmso1_thresh)\n",
    "atr_all,atr_pos,atr_neg = get_interactors(atr_map,atr_thresh)\n",
    "dmso2_all,dmso2_pos,dmso2_neg = get_interactors(dmso2_map,dmso2_thresh)\n",
    "etop_all,etop_pos,etop_neg = get_interactors(etop_map,etop_thresh)\n",
    "keto_all,keto_pos,keto_neg = get_interactors(keto_map,keto_thresh)"
   ]
  },
  {
   "cell_type": "code",
   "execution_count": 13,
   "id": "b9daa129",
   "metadata": {},
   "outputs": [],
   "source": [
    "## Import STRING interactions\n",
    "## Pipeline used from here https://towardsdatascience.com/visualizing-protein-networks-in-python-58a9b51be9d5\n",
    "\n",
    "protein_list = list(dmso1_map.index)\n",
    "\n",
    "proteins = '%0d'.join(protein_list)\n",
    "url = 'https://string-db.org/api/tsv/network?identifiers=' + proteins + '&species=9606'\n",
    "r = requests.get(url)\n",
    "lines = r.text.split('\\n') # pull the text from the response object and split based on new lines\n",
    "data = [l.split('\\t') for l in lines] # split each line into its components based on tabs\n",
    "# convert to dataframe using the first row as the column names; drop empty, final row\n",
    "df = pd.DataFrame(data[1:-1], columns = data[0]) \n",
    "interactions = df[['preferredName_A', 'preferredName_B', 'escore','ascore','dscore']]\n",
    "interactions.columns = ['geneA','geneB','PPI','coEx','DB']\n",
    "interactions = interactions.loc[interactions.index % 2 == 0]\n",
    "interactions.index = range(0,len(interactions.index))"
   ]
  },
  {
   "cell_type": "code",
   "execution_count": 47,
   "id": "4a2eedc6",
   "metadata": {},
   "outputs": [],
   "source": [
    "ppi_dict = dict()\n",
    "for i in interactions.index:\n",
    "    ppi_dict[interactions.loc[i,'geneA']+':'+interactions.loc[i,'geneB']] =float(interactions.loc[i,'PPI'])"
   ]
  },
  {
   "cell_type": "code",
   "execution_count": 56,
   "id": "e58394da",
   "metadata": {},
   "outputs": [],
   "source": [
    "dmso2_ppi_scores = ppi_scores(dmso2_all)\n",
    "etop_ppi_scores = ppi_scores(etop_all)\n",
    "keto_ppi_scores = ppi_scores(keto_all)\n",
    "dmso1_ppi_scores = ppi_scores(dmso1_all)\n",
    "atr_ppi_scores = ppi_scores(atr_all)"
   ]
  },
  {
   "cell_type": "code",
   "execution_count": 59,
   "id": "18a9eb80",
   "metadata": {},
   "outputs": [
    {
     "name": "stdout",
     "output_type": "stream",
     "text": [
      "0.04054145728643216 0.019976638546398445 0.04676740740740741 0.034856744186046514 0.021628522139160437\n"
     ]
    }
   ],
   "source": [
    "print(dmso2_ppi_scores,etop_ppi_scores,keto_ppi_scores,dmso1_ppi_scores,atr_ppi_scores)"
   ]
  },
  {
   "cell_type": "code",
   "execution_count": 62,
   "id": "139bc48c",
   "metadata": {},
   "outputs": [],
   "source": [
    "all_scores = ppi_scores(all_unique_pair(dmso1_map.index))"
   ]
  },
  {
   "cell_type": "code",
   "execution_count": 247,
   "id": "3fbd52c1",
   "metadata": {},
   "outputs": [
    {
     "data": {
      "text/plain": [
       "0.03317700191071739"
      ]
     },
     "execution_count": 247,
     "metadata": {},
     "output_type": "execute_result"
    }
   ],
   "source": [
    "binary_ppi_ratio(all_unique_pair(dmso1_map.index))"
   ]
  },
  {
   "cell_type": "code",
   "execution_count": 259,
   "id": "a25d3403",
   "metadata": {},
   "outputs": [],
   "source": []
  },
  {
   "cell_type": "code",
   "execution_count": 260,
   "id": "3721e9bc",
   "metadata": {},
   "outputs": [
    {
     "data": {
      "text/plain": [
       "([0.02855570502629326,\n",
       "  0.034668608885651854,\n",
       "  0.04234527687296417,\n",
       "  0.07,\n",
       "  0.07575757575757576,\n",
       "  0.19047619047619047,\n",
       "  0.25],\n",
       " [16354, 6865, 1535, 300, 66, 21, 12])"
      ]
     },
     "execution_count": 260,
     "metadata": {},
     "output_type": "execute_result"
    }
   ],
   "source": []
  },
  {
   "cell_type": "code",
   "execution_count": 324,
   "id": "2918f2ba",
   "metadata": {},
   "outputs": [
    {
     "data": {
      "image/png": "[encoded data removed]",
      "text/plain": [
       "<Figure size 400x300 with 2 Axes>"
      ]
     },
     "metadata": {},
     "output_type": "display_data"
    }
   ],
   "source": [
    "max_score = 7\n",
    "jump = 1.0\n",
    "num_pairs = []\n",
    "scores = []\n",
    "for i in np.arange(0,max_score,jump):\n",
    "    pairs = int_range(dmso1_map,i,i+jump)\n",
    "    num_pairs.append(len(pairs))\n",
    "    scores.append(binary_ppi_ratio(pairs))\n",
    "num_bins = len(np.arange(0,max_score,jump))\n",
    "\n",
    "fig, ax1 = plt.subplots()\n",
    "cmap = sns.color_palette(\"Greens\", as_cmap=True)\n",
    "ax1.set_xlabel('GI_score')\n",
    "ax1.set_ylabel('num_gene_pairs',color = 'lightcoral')\n",
    "ax1.bar(np.arange(0,max_score,jump),num_pairs,width = 0.8,color=cmap(np.arange(0,1,1/num_bins)),edgecolor = 'black')\n",
    "ax1.tick_params(axis='y')\n",
    "ax1.set_yscale('log')\n",
    "ax1.set_ylim(1,20000)\n",
    "ax2 = ax1.twinx() \n",
    "\n",
    "cmap = sns.color_palette(\"Purples\", as_cmap=True)\n",
    "ax2.set_ylabel('average_PPI_recall',color = 'mediumturquoise') \n",
    "ax2.scatter(np.arange(0,max_score,jump),scores, color=cmap(np.arange(0,1,1/num_bins)),edgecolor='black')\n",
    "ax2.set_ylim(0,0.5)\n",
    "ax2.set_xticks([0,1,2,3,4,5,6])\n",
    "\n",
    "fig.set_size_inches(4, 3)\n",
    "fig.tight_layout() \n",
    "plt.show()\n",
    "fig.savefig('/Users/benh/Desktop/for_figs/dmso1_ppi_recall.png',dpi=300)"
   ]
  },
  {
   "cell_type": "code",
   "execution_count": 325,
   "id": "1c60c934",
   "metadata": {},
   "outputs": [
    {
     "data": {
      "image/png": "[encoded data removed]",
      "text/plain": [
       "<Figure size 400x300 with 2 Axes>"
      ]
     },
     "metadata": {},
     "output_type": "display_data"
    }
   ],
   "source": [
    "max_score = 7\n",
    "jump = 1.0\n",
    "num_pairs = []\n",
    "scores = []\n",
    "for i in np.arange(0,max_score,jump):\n",
    "    pairs = int_range(atr_map,i,i+jump)\n",
    "    num_pairs.append(len(pairs))\n",
    "    scores.append(binary_ppi_ratio(pairs))\n",
    "num_bins = len(np.arange(0,max_score,jump))\n",
    "\n",
    "fig, ax1 = plt.subplots()\n",
    "cmap = sns.color_palette(\"Oranges\", as_cmap=True)\n",
    "ax1.set_xlabel('GI_score')\n",
    "ax1.set_ylabel('num_gene_pairs',color = 'lightcoral')\n",
    "ax1.bar(np.arange(0,max_score,jump),num_pairs,width = 0.8,color=cmap(np.arange(0,1,1/num_bins)),edgecolor='black')\n",
    "ax1.tick_params(axis='y')\n",
    "ax1.set_yscale('log')\n",
    "ax1.set_ylim(1,20000)\n",
    "ax2 = ax1.twinx() \n",
    "\n",
    "cmap = sns.color_palette(\"Purples\", as_cmap=True)\n",
    "ax2.set_ylabel('average_PPI_recall',color = 'mediumturquoise') \n",
    "ax2.scatter(np.arange(0,max_score,jump),scores, color=cmap(np.arange(0,1,1/num_bins)),edgecolor='black')\n",
    "ax2.set_ylim(0,0.5)\n",
    "ax2.set_xticks([0,1,2,3,4,5,6])\n",
    "\n",
    "fig.set_size_inches(4, 3)\n",
    "fig.tight_layout() \n",
    "plt.show()\n",
    "fig.savefig('/Users/benh/Desktop/for_figs/atr_ppi_recall.png',dpi=300)"
   ]
  }
 ],
 "metadata": {
  "kernelspec": {
   "display_name": "Python 3 (ipykernel)",
   "language": "python",
   "name": "python3"
  },
  "language_info": {
   "codemirror_mode": {
    "name": "ipython",
    "version": 3
   },
   "file_extension": ".py",
   "mimetype": "text/x-python",
   "name": "python",
   "nbconvert_exporter": "python",
   "pygments_lexer": "ipython3",
   "version": "3.10.9"
  }
 },
 "nbformat": 4,
 "nbformat_minor": 5
}
